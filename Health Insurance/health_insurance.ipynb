{
  "nbformat": 4,
  "nbformat_minor": 0,
  "metadata": {
    "kernelspec": {
      "display_name": "Python 3",
      "language": "python",
      "name": "python3"
    },
    "language_info": {
      "name": "python",
      "version": "3.6.4",
      "mimetype": "text/x-python",
      "codemirror_mode": {
        "name": "ipython",
        "version": 3
      },
      "pygments_lexer": "ipython3",
      "nbconvert_exporter": "python",
      "file_extension": ".py"
    },
    "colab": {
      "name": "health-insurance-cost-predicition.ipynb",
      "provenance": [],
      "collapsed_sections": []
    }
  },
  "cells": [
    {
      "cell_type": "markdown",
      "metadata": {
        "_cell_guid": "ee938394-c230-4665-8237-21adc02dc520",
        "_uuid": "5ed28566ed5628e328a9e3908a3fd38d0b3c1a26",
        "id": "Osq6z0n6lpDp",
        "colab_type": "text"
      },
      "source": [
        "# Prediction of Health Insurance Cost by Linear Regression"
      ]
    },
    {
      "cell_type": "markdown",
      "metadata": {
        "_cell_guid": "bf93c711-a748-4d51-9d37-438a303cf6a2",
        "_uuid": "de779115e97a97014278ad169ebef429f0cba3fa",
        "id": "GjfFVD_slpDs",
        "colab_type": "text"
      },
      "source": [
        "### Loading the libraries and modules"
      ]
    },
    {
      "cell_type": "code",
      "metadata": {
        "_uuid": "332ff054a8f9ebd94a47f16bedfdaba553aea53b",
        "_cell_guid": "52d3cc46-a8c5-49c6-9f8b-2f605496f8d2",
        "trusted": true,
        "id": "IwH2oLb9lpDt",
        "colab_type": "code",
        "colab": {}
      },
      "source": [
        "import pandas as pd\n",
        "import numpy as np\n",
        "import scipy as sp\n",
        "import sklearn as sk\n",
        "import matplotlib.pyplot as plt\n",
        "%matplotlib inline\n",
        "from sklearn.model_selection import cross_val_score, KFold\n",
        "from sklearn import model_selection\n",
        "from sklearn import linear_model\n",
        "from sklearn.metrics import mean_squared_error,mean_absolute_error"
      ],
      "execution_count": null,
      "outputs": []
    },
    {
      "cell_type": "markdown",
      "metadata": {
        "_cell_guid": "1ff2c210-8ca6-4e28-8b30-f1c7e970729f",
        "_uuid": "b343ae32202b719cce64d5f859792d8be524d173",
        "id": "f6U2ObmHlpD1",
        "colab_type": "text"
      },
      "source": [
        "### Loading the data"
      ]
    },
    {
      "cell_type": "code",
      "metadata": {
        "_cell_guid": "c790d7b3-9a09-43ae-86c5-0fdf192bda52",
        "_uuid": "e239c2ee0059c4ff611e87ad3f59cebf1644ed49",
        "trusted": true,
        "id": "sgdlzvQSlpD2",
        "colab_type": "code",
        "colab": {
          "resources": {
            "http://localhost:8080/nbextensions/google.colab/files.js": {
              "data": "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",
              "ok": true,
              "headers": [
                [
                  "content-type",
                  "application/javascript"
                ]
              ],
              "status": 200,
              "status_text": ""
            }
          },
          "base_uri": "https://localhost:8080/",
          "height": 310
        },
        "outputId": "ac18187f-f408-4eb6-bfdf-a0857bc92289"
      },
      "source": [
        "from google.colab import files\n",
        "uploaded = files.upload()\n",
        "insurance = pd.read_csv('insurance.csv')\n",
        "insurance.info()"
      ],
      "execution_count": null,
      "outputs": [
        {
          "output_type": "display_data",
          "data": {
            "text/html": [
              "\n",
              "     <input type=\"file\" id=\"files-997565a0-5e6f-41df-829c-7cd44e2315a9\" name=\"files[]\" multiple disabled\n",
              "        style=\"border:none\" />\n",
              "     <output id=\"result-997565a0-5e6f-41df-829c-7cd44e2315a9\">\n",
              "      Upload widget is only available when the cell has been executed in the\n",
              "      current browser session. Please rerun this cell to enable.\n",
              "      </output>\n",
              "      <script src=\"/nbextensions/google.colab/files.js\"></script> "
            ],
            "text/plain": [
              "<IPython.core.display.HTML object>"
            ]
          },
          "metadata": {
            "tags": []
          }
        },
        {
          "output_type": "stream",
          "text": [
            "Saving insurance.csv to insurance.csv\n",
            "<class 'pandas.core.frame.DataFrame'>\n",
            "RangeIndex: 1338 entries, 0 to 1337\n",
            "Data columns (total 7 columns):\n",
            " #   Column    Non-Null Count  Dtype  \n",
            "---  ------    --------------  -----  \n",
            " 0   age       1338 non-null   int64  \n",
            " 1   sex       1338 non-null   object \n",
            " 2   bmi       1338 non-null   float64\n",
            " 3   children  1338 non-null   int64  \n",
            " 4   smoker    1338 non-null   object \n",
            " 5   region    1338 non-null   object \n",
            " 6   charges   1338 non-null   float64\n",
            "dtypes: float64(2), int64(2), object(3)\n",
            "memory usage: 73.3+ KB\n"
          ],
          "name": "stdout"
        }
      ]
    },
    {
      "cell_type": "markdown",
      "metadata": {
        "_cell_guid": "670df019-82a6-414f-bfcb-d47f63307827",
        "_uuid": "9abe2b2314d844a5243b9ba81b0a1cb60b403271",
        "id": "gYCNdNQllpD8",
        "colab_type": "text"
      },
      "source": [
        "#### First, we define a function to distinguish smokers and non-smokers\n"
      ]
    },
    {
      "cell_type": "code",
      "metadata": {
        "_cell_guid": "1864d008-103d-4601-9dda-a3c6a596b6dd",
        "_uuid": "ec6af5b2f6d6c4505080160143911dbaa6295ddb",
        "trusted": true,
        "id": "CDCJQK2KlpD-",
        "colab_type": "code",
        "colab": {}
      },
      "source": [
        "def map_smoking(column):\n",
        "    mapped=[]\n",
        "    \n",
        "    for row in column:\n",
        "        \n",
        "        if row==\"yes\":\n",
        "            mapped.append(1)\n",
        "        else:\n",
        "            mapped.append(0)\n",
        "        \n",
        "        \n",
        "    return mapped\n",
        "insurance[\"smoker_norm\"]=map_smoking(insurance[\"smoker\"])"
      ],
      "execution_count": null,
      "outputs": []
    },
    {
      "cell_type": "code",
      "metadata": {
        "_uuid": "b19511446dc9212aee48f6b64f61d1d97fa4c0b2",
        "_cell_guid": "0a6bbf8d-dbad-4e79-9018-3ec63f8d7ea5",
        "trusted": true,
        "id": "wDUifnD1lpEE",
        "colab_type": "code",
        "colab": {}
      },
      "source": [
        "nonnum_cols=[col for col in insurance.select_dtypes(include=[\"object\"])]\n"
      ],
      "execution_count": null,
      "outputs": []
    },
    {
      "cell_type": "markdown",
      "metadata": {
        "_cell_guid": "d4ebf9c5-e48f-40ea-9205-3ff5a9b2d66a",
        "_uuid": "9f744a5f663e38f8dcc4eadb3634ebf005027f55",
        "id": "_ML0iJfxlpEM",
        "colab_type": "text"
      },
      "source": [
        "#### Also, we will create a new feature that distinguishes obese and non-obese individuals"
      ]
    },
    {
      "cell_type": "code",
      "metadata": {
        "_uuid": "df82f573d11a1fd621bc6cc8e9e37562abbaf158",
        "_cell_guid": "b8028320-a341-4fbf-8918-dc55e20c26b8",
        "trusted": true,
        "id": "JyduZAxXlpEO",
        "colab_type": "code",
        "colab": {}
      },
      "source": [
        "def map_obese(column):\n",
        "    mapped=[]\n",
        "    for row in column:\n",
        "        if row>30:\n",
        "            mapped.append(1)\n",
        "        else:\n",
        "            mapped.append(0)\n",
        "    return mapped\n",
        "insurance[\"obese\"]=map_obese(insurance[\"bmi\"])"
      ],
      "execution_count": null,
      "outputs": []
    },
    {
      "cell_type": "code",
      "metadata": {
        "_cell_guid": "cfb77f9d-7ab7-4b8c-a55c-403b22ed4025",
        "_uuid": "1b88467d343e1e85e77c0125439877960cb7a41c",
        "trusted": true,
        "id": "sgkgcRAolpEW",
        "colab_type": "code",
        "colab": {
          "base_uri": "https://localhost:8080/",
          "height": 204
        },
        "outputId": "97298b01-422a-4594-8a8d-f3e68768604d"
      },
      "source": [
        "insurance.head(5)"
      ],
      "execution_count": null,
      "outputs": [
        {
          "output_type": "execute_result",
          "data": {
            "text/html": [
              "<div>\n",
              "<style scoped>\n",
              "    .dataframe tbody tr th:only-of-type {\n",
              "        vertical-align: middle;\n",
              "    }\n",
              "\n",
              "    .dataframe tbody tr th {\n",
              "        vertical-align: top;\n",
              "    }\n",
              "\n",
              "    .dataframe thead th {\n",
              "        text-align: right;\n",
              "    }\n",
              "</style>\n",
              "<table border=\"1\" class=\"dataframe\">\n",
              "  <thead>\n",
              "    <tr style=\"text-align: right;\">\n",
              "      <th></th>\n",
              "      <th>age</th>\n",
              "      <th>sex</th>\n",
              "      <th>bmi</th>\n",
              "      <th>children</th>\n",
              "      <th>smoker</th>\n",
              "      <th>region</th>\n",
              "      <th>charges</th>\n",
              "      <th>smoker_norm</th>\n",
              "      <th>obese</th>\n",
              "    </tr>\n",
              "  </thead>\n",
              "  <tbody>\n",
              "    <tr>\n",
              "      <th>0</th>\n",
              "      <td>19</td>\n",
              "      <td>female</td>\n",
              "      <td>27.900</td>\n",
              "      <td>0</td>\n",
              "      <td>yes</td>\n",
              "      <td>southwest</td>\n",
              "      <td>16884.92400</td>\n",
              "      <td>1</td>\n",
              "      <td>0</td>\n",
              "    </tr>\n",
              "    <tr>\n",
              "      <th>1</th>\n",
              "      <td>18</td>\n",
              "      <td>male</td>\n",
              "      <td>33.770</td>\n",
              "      <td>1</td>\n",
              "      <td>no</td>\n",
              "      <td>southeast</td>\n",
              "      <td>1725.55230</td>\n",
              "      <td>0</td>\n",
              "      <td>1</td>\n",
              "    </tr>\n",
              "    <tr>\n",
              "      <th>2</th>\n",
              "      <td>28</td>\n",
              "      <td>male</td>\n",
              "      <td>33.000</td>\n",
              "      <td>3</td>\n",
              "      <td>no</td>\n",
              "      <td>southeast</td>\n",
              "      <td>4449.46200</td>\n",
              "      <td>0</td>\n",
              "      <td>1</td>\n",
              "    </tr>\n",
              "    <tr>\n",
              "      <th>3</th>\n",
              "      <td>33</td>\n",
              "      <td>male</td>\n",
              "      <td>22.705</td>\n",
              "      <td>0</td>\n",
              "      <td>no</td>\n",
              "      <td>northwest</td>\n",
              "      <td>21984.47061</td>\n",
              "      <td>0</td>\n",
              "      <td>0</td>\n",
              "    </tr>\n",
              "    <tr>\n",
              "      <th>4</th>\n",
              "      <td>32</td>\n",
              "      <td>male</td>\n",
              "      <td>28.880</td>\n",
              "      <td>0</td>\n",
              "      <td>no</td>\n",
              "      <td>northwest</td>\n",
              "      <td>3866.85520</td>\n",
              "      <td>0</td>\n",
              "      <td>0</td>\n",
              "    </tr>\n",
              "  </tbody>\n",
              "</table>\n",
              "</div>"
            ],
            "text/plain": [
              "   age     sex     bmi  children  ...     region      charges  smoker_norm  obese\n",
              "0   19  female  27.900         0  ...  southwest  16884.92400            1      0\n",
              "1   18    male  33.770         1  ...  southeast   1725.55230            0      1\n",
              "2   28    male  33.000         3  ...  southeast   4449.46200            0      1\n",
              "3   33    male  22.705         0  ...  northwest  21984.47061            0      0\n",
              "4   32    male  28.880         0  ...  northwest   3866.85520            0      0\n",
              "\n",
              "[5 rows x 9 columns]"
            ]
          },
          "metadata": {
            "tags": []
          },
          "execution_count": 7
        }
      ]
    },
    {
      "cell_type": "markdown",
      "metadata": {
        "_cell_guid": "474b262a-9907-419e-9578-7ab94459ea87",
        "_uuid": "708bd4f0143c0bb1e97a2c2da5e1354313afcd10",
        "id": "UAaPxu7hlpEd",
        "colab_type": "text"
      },
      "source": [
        "### We now explore the relation between the features given and the insurance costs"
      ]
    },
    {
      "cell_type": "code",
      "metadata": {
        "_cell_guid": "580c596f-7e52-44ad-9331-d2f69a4d9d21",
        "_uuid": "acdd4d966e89fae7f5e39db6789019332ac6855c",
        "trusted": true,
        "id": "rKwvL2eilpEe",
        "colab_type": "code",
        "colab": {
          "base_uri": "https://localhost:8080/",
          "height": 1000
        },
        "outputId": "40d259ff-a579-45bd-b349-08abc3d913d0"
      },
      "source": [
        "colnum=len(insurance.columns)-3\n",
        "fig,ax=plt.subplots(colnum,1,figsize=(3,25))\n",
        "ax[0].set_ylabel(\"charges\")\n",
        "p_vals={}\n",
        "for ind,col in enumerate([i for i in insurance.columns if i not in [\"smoker\",\"region\",\"charges\",\"sex_norm\"]]):\n",
        "    \n",
        "    ax[ind].scatter(insurance[col],insurance.charges,s=5)\n",
        "    ax[ind].set_xlabel(col)\n",
        "    ax[ind].set_ylabel(\"charges\")    \n",
        "plt.show()"
      ],
      "execution_count": null,
      "outputs": [
        {
          "output_type": "display_data",
          "data": {
            "image/png": "[encoded data removed]",
            "text/plain": [
              "<Figure size 216x1800 with 6 Axes>"
            ]
          },
          "metadata": {
            "tags": [],
            "needs_background": "light"
          }
        }
      ]
    },
    {
      "cell_type": "code",
      "metadata": {
        "_cell_guid": "33b774b8-7ba9-4519-901e-36000d14d48d",
        "_uuid": "bc8ad29365f13e43466429c65f41cf81cfd13684",
        "trusted": true,
        "id": "ChrWNfS4lpEj",
        "colab_type": "code",
        "colab": {
          "base_uri": "https://localhost:8080/",
          "height": 430
        },
        "outputId": "7cec3d5d-5bd2-4435-e6db-0335c7201c96"
      },
      "source": [
        "corr_vals=[]\n",
        "collabel=[]\n",
        "for col in [i for i in insurance.columns if i not in nonnum_cols]:\n",
        "    \n",
        "    p_val=sp.stats.pearsonr(insurance[col],insurance[\"charges\"])\n",
        "    corr_vals.append(np.abs(p_val[0]))\n",
        "    print(col,\": \",np.abs(p_val[0]))\n",
        "    collabel.append(col)\n",
        "plt.bar(range(1,len(corr_vals)+1),corr_vals)\n",
        "plt.xticks(range(1,len(corr_vals)+1),collabel,rotation=45)\n",
        "plt.ylabel(\"Absolute correlation\")"
      ],
      "execution_count": null,
      "outputs": [
        {
          "output_type": "stream",
          "text": [
            "age :  0.2990081933306476\n",
            "bmi :  0.1983409688336288\n",
            "children :  0.0679982268479048\n",
            "charges :  1.0\n",
            "smoker_norm :  0.7872514304984775\n",
            "obese :  0.19968322199588243\n"
          ],
          "name": "stdout"
        },
        {
          "output_type": "execute_result",
          "data": {
            "text/plain": [
              "Text(0, 0.5, 'Absolute correlation')"
            ]
          },
          "metadata": {
            "tags": []
          },
          "execution_count": 9
        },
        {
          "output_type": "display_data",
          "data": {
            "image/png": "[encoded data removed]",
            "text/plain": [
              "<Figure size 432x288 with 1 Axes>"
            ]
          },
          "metadata": {
            "tags": [],
            "needs_background": "light"
          }
        }
      ]
    },
    {
      "cell_type": "markdown",
      "metadata": {
        "_cell_guid": "f8a7b744-6d17-44bb-8b9d-50690e23f2b1",
        "_uuid": "f97acd293601f63eabb9b578eec201f6f55c58da",
        "id": "U5_272pllpEo",
        "colab_type": "text"
      },
      "source": [
        "### Apparently, smoking, age and obesity are the factors that contribute the most in the calculation of insurance costs. We will only use those features for our predictions."
      ]
    },
    {
      "cell_type": "code",
      "metadata": {
        "_uuid": "a089ed99439cf074a39337b8a788cf44186dbda4",
        "_cell_guid": "91e0f9b8-ba9e-45c4-a5b3-3ed76f792849",
        "trusted": true,
        "id": "FbcaCs7AlpEp",
        "colab_type": "code",
        "colab": {}
      },
      "source": [
        "cols_not_reg3=['age', 'obese', 'smoker_norm']"
      ],
      "execution_count": null,
      "outputs": []
    },
    {
      "cell_type": "markdown",
      "metadata": {
        "_uuid": "317638fb27646c19fb3c43a88bc7bf2dce412905",
        "id": "LGATPXiFlpE2",
        "colab_type": "text"
      },
      "source": [
        "We will make our predictions using Linear Regression, for which we will model the relationship between the three variables and insurance costs  by fitting a linear equation to observed data. <br>\n",
        "We will assume that the model for multiple linear regression, given n=3 observations, is : <br>\n",
        "y = a*x1 + b*x2 + c*x3 + i <br>\n",
        "where:<br>\n",
        "y is the health insurance cost <br>\n",
        "a is the age penalty <br>\n",
        "b is the obesity penalty, while x2 will accept a value of 1 for obese individuals and 0 for non-obese ones. <br>\n",
        "c is the penalty to smokers, for which x3 will have a value of 1 <br>\n",
        "i is the intercept of the equation <br>"
      ]
    },
    {
      "cell_type": "markdown",
      "metadata": {
        "_uuid": "881dcfd1cae30718432e9c8ac04be6bbf32b8848",
        "id": "-qJ2zghklpE3",
        "colab_type": "text"
      },
      "source": [
        "### We will make our predictions using K-fold cross validation\n",
        "In k-fold cross-validation, we create the testing and training sets by splitting the data into **k** equally sized subsets. We then treat a single subsample as the testing set, and the remaining data as the training set. We then run and test models on all **k** datasets, and average the estimates. Let’s try it out with 10 folds and using Linear Regression:"
      ]
    },
    {
      "cell_type": "code",
      "metadata": {
        "_uuid": "5aa37910b2ab82ac204ee690cd8239b70e9f61dd",
        "_cell_guid": "5723f343-cdf4-4832-8759-e618000be2e6",
        "trusted": true,
        "id": "tdoBr92tlpE4",
        "colab_type": "code",
        "colab": {}
      },
      "source": [
        "kf=KFold(n_splits=10, random_state=1, shuffle=True)\n",
        "intercepts=[]\n",
        "mses=[]\n",
        "coefs=[]\n",
        "\n",
        "for train_index, test_index in kf.split(insurance[cols_not_reg3]):\n",
        "    \n",
        "    lr=linear_model.LinearRegression()\n",
        "    lr.fit(insurance[cols_not_reg3].iloc[train_index],insurance[\"charges\"].iloc[train_index])\n",
        "    lr_predictions=lr.predict(insurance[cols_not_reg3].iloc[test_index])\n",
        "    \n",
        "    lr_mse=mean_squared_error(insurance[\"charges\"].iloc[test_index],lr_predictions)\n",
        "    \n",
        "    intercepts.append(lr.intercept_)\n",
        "    \n",
        "    coefs.append(lr.coef_)\n",
        "    mses.append(lr_mse)\n",
        "    "
      ],
      "execution_count": null,
      "outputs": []
    },
    {
      "cell_type": "code",
      "metadata": {
        "_cell_guid": "8e5684d7-2ee8-4d27-a6d4-803e54d48e1c",
        "_uuid": "3d19d82d2dd2a10837f9e9b6ba2950514c69a88b",
        "trusted": true,
        "id": "z_6JcRaflpE-",
        "colab_type": "code",
        "colab": {
          "base_uri": "https://localhost:8080/",
          "height": 34
        },
        "outputId": "ac8e1d72-3f02-4d8b-abb7-9a5e225fa948"
      },
      "source": [
        "rmses=[x**.5 for x in mses]\n",
        "avg_rmse=np.mean(rmses)\n",
        "avg_intercept=np.mean(intercepts)\n",
        "age_coefs=[]\n",
        "obesity_coefs=[]\n",
        "smoking_coefs=[]\n",
        "for vals in coefs:\n",
        "    #print vals[0]\n",
        "    age_coefs.append(vals[0])\n",
        "    obesity_coefs.append(vals[1])\n",
        "    smoking_coefs.append(vals[2])\n",
        "age_coef=np.mean(age_coefs)\n",
        "obesity_coef=np.mean(obesity_coefs)\n",
        "smoking_coef=np.mean(smoking_coefs)\n",
        "print(\"a: \",age_coef,\" b: \",obesity_coef,\" c: \",smoking_coef,\" intercept: \",avg_intercept)"
      ],
      "execution_count": null,
      "outputs": [
        {
          "output_type": "stream",
          "text": [
            "a:  261.83801848327676  b:  4227.7376009403615  c:  23851.06705386572  intercept:  -4107.422133255812\n"
          ],
          "name": "stdout"
        }
      ]
    },
    {
      "cell_type": "markdown",
      "metadata": {
        "_uuid": "655a6f0d6d4c7ff1e8b60e067a4100382f81849e",
        "id": "qR4cpkAllpFD",
        "colab_type": "text"
      },
      "source": [
        "### After we obtain the LR coefficients, we define a function that will automatically predict a insurance cost value given age, obesity and smoking parameters"
      ]
    },
    {
      "cell_type": "code",
      "metadata": {
        "_uuid": "a3ae0c4607c483225e79371dbc77d6ba22015d85",
        "_cell_guid": "9661395f-1e2e-4584-b1f0-1c5d1ec632ce",
        "trusted": true,
        "id": "4qNDXl45lpFE",
        "colab_type": "code",
        "colab": {}
      },
      "source": [
        "def calculate_insurance(age,obesity,smoking):\n",
        "    y=(age_coef*age)+(obesity_coef*obesity)+(smoking_coef*smoking)+avg_intercept\n",
        "    return y"
      ],
      "execution_count": null,
      "outputs": []
    },
    {
      "cell_type": "markdown",
      "metadata": {
        "_uuid": "474b3a613d83bd696f62cb2655ae9b820c772525",
        "id": "91VmjD2xlpFJ",
        "colab_type": "text"
      },
      "source": [
        "### For example, a 34 year old, obese and smoker individual will have to pay the following price for his insurance:"
      ]
    },
    {
      "cell_type": "code",
      "metadata": {
        "_cell_guid": "6d52581a-bb14-4866-8de2-f46354721bd4",
        "_uuid": "b3d9001d3125afefc6d2204caa9ff47c79996a62",
        "trusted": true,
        "id": "VS3IBc1xlpFK",
        "colab_type": "code",
        "colab": {
          "base_uri": "https://localhost:8080/",
          "height": 34
        },
        "outputId": "20828c72-8269-4e5a-d627-c5c530782856"
      },
      "source": [
        "print(calculate_insurance(30,20,1))"
      ],
      "execution_count": null,
      "outputs": [
        {
          "output_type": "stream",
          "text": [
            "112153.53749391544\n"
          ],
          "name": "stdout"
        }
      ]
    }
  ]
}